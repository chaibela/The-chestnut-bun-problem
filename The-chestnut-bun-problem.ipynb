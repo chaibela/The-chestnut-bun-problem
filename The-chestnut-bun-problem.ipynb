{
 "cells": [
  {
   "cell_type": "code",
   "execution_count": 8,
   "id": "b4582dcf",
   "metadata": {},
   "outputs": [
    {
     "name": "stdout",
     "output_type": "stream",
     "text": [
      "It will take 225 minutes to cover solar system\n",
      "225\n",
      "[7.0, 14.0, 28.0, 56.0, 112.0, 224.0, 448.0, 896.0, 1792.0, 3584.0, 7168.0, 14336.0, 28672.0, 57344.0, 114688.0, 229376.0, 458752.0, 917504.0, 1835008.0, 3670016.0, 7340032.0, 14680064.0, 29360128.0, 58720256.0, 117440512.0, 234881024.0, 469762048.0, 939524096.0, 1879048192.0, 3758096384.0, 7516192768.0, 15032385536.0, 30064771072.0, 60129542144.0, 120259084288.0, 240518168576.0, 481036337152.0, 962072674304.0, 1924145348608.0, 3848290697216.0, 7696581394432.0, 15393162788864.0, 30786325577728.0, 61572651155456.0, 123145302310912.0]\n",
      "[5, 10, 15, 20, 25, 30, 35, 40, 45, 50, 55, 60, 65, 70, 75, 80, 85, 90, 95, 100, 105, 110, 115, 120, 125, 130, 135, 140, 145, 150, 155, 160, 165, 170, 175, 180, 185, 190, 195, 200, 205, 210, 215, 220, 225]\n"
     ]
    }
   ],
   "source": [
    "# [Problem] The day when chestnut buns cover the solar system\n",
    "chest_radius = 3.5 #assumed radius of spherical chestnut bun\n",
    "solar_radius = 144 * 10**12 #assumed solar system radius\n",
    "y_list = []\n",
    "x_list = []\n",
    "x = 0\n",
    "while chest_radius < solar_radius:\n",
    "    chest_radius = chest_radius * 2\n",
    "    if chest_radius > solar_radius: #volume of sphere is given by: 4/3*pi*radius**3, therefore, it is similar to comparin\n",
    "        break\n",
    "    y_list.append(chest_radius) #list of radius for chestnut \n",
    "    x = x + 5\n",
    "    x_list.append(x) #list of every 5 minutes for doubling size\n",
    "print (\"It will take {} minutes to cover solar system\" .format(x))\n",
    "print(x)\n",
    "print (y_list)\n",
    "print (x_list)\n",
    "\n"
   ]
  },
  {
   "cell_type": "code",
   "execution_count": 11,
   "id": "bd8a0eb4",
   "metadata": {},
   "outputs": [
    {
     "name": "stdout",
     "output_type": "stream",
     "text": [
      "It will take 155 minutes to cover solar system\n"
     ]
    }
   ],
   "source": [
    "def calculate_time_small_object_fills_big_object (small_vol, big_vol):\n",
    "#chest_radius = 3.5 #assumed radius of spherical chestnut bun\n",
    "#solar_radius = 144 * 10**12 #assumed solar system radius\n",
    " y1_list = []\n",
    " x1_list = []\n",
    " x1 = 0\n",
    " while small_vol < big_vol:\n",
    "    small_vol = small_vol * 2\n",
    "    if small_vol > big_vol: #volume of sphere is given by: 4/3*pi*radius**3, therefore, it is similar to comparing the ra\n",
    "        break\n",
    "    y1_list.append(small_vol) #list of radius for chestnut bun\n",
    "    x1=x1 + 5 \n",
    "    x1_list.append(x1) #list of every 5 minutes for doubling size \n",
    " return x1\n",
    "print (\"It will take {} minutes to cover solar system\" .format(calculate_time_small_object_fills_big_object (3.5, 14400000000)))"
   ]
  },
  {
   "cell_type": "code",
   "execution_count": 12,
   "id": "9de13920",
   "metadata": {},
   "outputs": [
    {
     "data": {
      "image/png": "[encoded data removed]",
      "text/plain": [
       "<Figure size 432x288 with 1 Axes>"
      ]
     },
     "metadata": {
      "needs_background": "light"
     },
     "output_type": "display_data"
    }
   ],
   "source": [
    "#Graphing the doubling function\n",
    "import matplotlib.pyplot as plt\n",
    "%matplotlib inline\n",
    "# line 1 points\n",
    "x1 = x_list\n",
    "y1 = y_list\n",
    "# plotting the line 1 points\n",
    "plt.plot(x1, y1, label = \"Line of doubling object size\")\n",
    "# naming the x axis\n",
    "plt.xlabel('Time in minutes (intervals of 5 mins)')\n",
    "# naming the y axis\n",
    "plt.ylabel('Size of object')\n",
    "# giving a title to my graph\n",
    "plt.title('Graph of doubling of small object against time')\n",
    "# show a legend on the plot\n",
    "plt.legend()\n",
    "# function to show the plot\n",
    "plt.show()"
   ]
  },
  {
   "cell_type": "code",
   "execution_count": null,
   "id": "25421aeb",
   "metadata": {},
   "outputs": [],
   "source": []
  }
 ],
 "metadata": {
  "kernelspec": {
   "display_name": "Python 3",
   "language": "python",
   "name": "python3"
  },
  "language_info": {
   "codemirror_mode": {
    "name": "ipython",
    "version": 3
   },
   "file_extension": ".py",
   "mimetype": "text/x-python",
   "name": "python",
   "nbconvert_exporter": "python",
   "pygments_lexer": "ipython3",
   "version": "3.8.8"
  }
 },
 "nbformat": 4,
 "nbformat_minor": 5
}
